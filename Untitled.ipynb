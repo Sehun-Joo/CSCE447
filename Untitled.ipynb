{
 "cells": [
  {
   "cell_type": "code",
   "execution_count": 97,
   "id": "45cd58ef",
   "metadata": {},
   "outputs": [
    {
     "ename": "TypeError",
     "evalue": "unsupported operand type(s) for +: 'range' and 'range'",
     "output_type": "error",
     "traceback": [
      "\u001b[0;31m---------------------------------------------------------------------------\u001b[0m",
      "\u001b[0;31mTypeError\u001b[0m                                 Traceback (most recent call last)",
      "\u001b[0;32m<ipython-input-97-434972fd1b2a>\u001b[0m in \u001b[0;36m<module>\u001b[0;34m\u001b[0m\n\u001b[1;32m      3\u001b[0m \u001b[0;32mimport\u001b[0m \u001b[0mtime\u001b[0m\u001b[0;34m\u001b[0m\u001b[0;34m\u001b[0m\u001b[0m\n\u001b[1;32m      4\u001b[0m \u001b[0;34m\u001b[0m\u001b[0m\n\u001b[0;32m----> 5\u001b[0;31m \u001b[0mdf\u001b[0m \u001b[0;34m=\u001b[0m \u001b[0mpd\u001b[0m\u001b[0;34m.\u001b[0m\u001b[0mread_excel\u001b[0m\u001b[0;34m(\u001b[0m\u001b[0;34m\"SUB-IP-EST2019-ANNRES-48.xlsx\"\u001b[0m\u001b[0;34m,\u001b[0m \u001b[0mskiprows\u001b[0m\u001b[0;34m=\u001b[0m\u001b[0mrange\u001b[0m\u001b[0;34m(\u001b[0m\u001b[0;36m1\u001b[0m\u001b[0;34m,\u001b[0m\u001b[0;36m4\u001b[0m\u001b[0;34m)\u001b[0m\u001b[0;34m+\u001b[0m\u001b[0mrange\u001b[0m\u001b[0;34m(\u001b[0m\u001b[0;36m1220\u001b[0m\u001b[0;34m,\u001b[0m\u001b[0;36m1224\u001b[0m\u001b[0;34m)\u001b[0m\u001b[0;34m)\u001b[0m\u001b[0;34m\u001b[0m\u001b[0;34m\u001b[0m\u001b[0m\n\u001b[0m\u001b[1;32m      6\u001b[0m \u001b[0;34m\u001b[0m\u001b[0m\n\u001b[1;32m      7\u001b[0m \u001b[0mdf\u001b[0m\u001b[0;34m.\u001b[0m\u001b[0mcolumns\u001b[0m\u001b[0;34m=\u001b[0m\u001b[0;34m[\u001b[0m\u001b[0;34m\"City\"\u001b[0m\u001b[0;34m,\u001b[0m\u001b[0;34m\"Census\"\u001b[0m\u001b[0;34m,\u001b[0m\u001b[0;34m\"Estimates Base\"\u001b[0m\u001b[0;34m,\u001b[0m\u001b[0;34m\"2010\"\u001b[0m\u001b[0;34m,\u001b[0m\u001b[0;34m\"2011\"\u001b[0m\u001b[0;34m,\u001b[0m\u001b[0;34m\"2012\"\u001b[0m\u001b[0;34m,\u001b[0m\u001b[0;34m\"2013\"\u001b[0m\u001b[0;34m,\u001b[0m\u001b[0;34m\"2014\"\u001b[0m\u001b[0;34m,\u001b[0m\u001b[0;34m\"2015\"\u001b[0m\u001b[0;34m,\u001b[0m\u001b[0;34m\"2016\"\u001b[0m\u001b[0;34m,\u001b[0m\u001b[0;34m\"2017\"\u001b[0m\u001b[0;34m,\u001b[0m\u001b[0;34m\"2018\"\u001b[0m\u001b[0;34m,\u001b[0m\u001b[0;34m\"2019\"\u001b[0m\u001b[0;34m]\u001b[0m\u001b[0;34m\u001b[0m\u001b[0;34m\u001b[0m\u001b[0m\n",
      "\u001b[0;31mTypeError\u001b[0m: unsupported operand type(s) for +: 'range' and 'range'"
     ]
    }
   ],
   "source": [
    "import pandas as pd\n",
    "from geopy.geocoders import Nominatim\n",
    "import time\n",
    "\n",
    "df = pd.read_excel(\"SUB-IP-EST2019-ANNRES-48.xlsx\", skiprows=range(1,4))\n",
    "\n",
    "df.columns=[\"City\",\"Census\",\"Estimates Base\",\"2010\",\"2011\",\"2012\",\"2013\",\"2014\",\"2015\",\"2016\",\"2017\",\"2018\",\"2019\"]\n",
    "\n",
    "\n",
    "\n",
    "df.tail()"
   ]
  },
  {
   "cell_type": "code",
   "execution_count": 85,
   "id": "040c35f8",
   "metadata": {},
   "outputs": [],
   "source": [
    "from geopy.geocoders import Nominatim\n",
    "geolocator = Nominatim(user_agent=\"GEOCODE\")\n",
    "\n",
    "from geopy.extra.rate_limiter import RateLimiter\n",
    "\n"
   ]
  },
  {
   "cell_type": "code",
   "execution_count": null,
   "id": "c827741b",
   "metadata": {},
   "outputs": [],
   "source": [
    "from geopy.exc import GeocoderTimedOut\n",
    "def do_geocode(address, attempt=1, max_attempts=100):\n",
    "    try:\n",
    "        loc = geolocator.geocode(address)\n",
    "        print(loc)\n",
    "        return loc\n",
    "    except:\n",
    "        return do_geocode(address, attempt=attempt)\n",
    "        raise\n",
    "\n",
    "\n",
    "        \n",
    "geocoder = RateLimiter(do_geocode, min_delay_seconds=3)"
   ]
  },
  {
   "cell_type": "code",
   "execution_count": null,
   "id": "db064f02",
   "metadata": {},
   "outputs": [],
   "source": [
    "df[\"Location\"] = df[\"City\"].apply(geocoder)\n",
    "print(list(df[\"City\"]))"
   ]
  },
  {
   "cell_type": "code",
   "execution_count": null,
   "id": "4802e306",
   "metadata": {},
   "outputs": [],
   "source": []
  },
  {
   "cell_type": "code",
   "execution_count": null,
   "id": "9b90d3fe",
   "metadata": {},
   "outputs": [],
   "source": []
  }
 ],
 "metadata": {
  "kernelspec": {
   "display_name": "Python 3",
   "language": "python",
   "name": "python3"
  },
  "language_info": {
   "codemirror_mode": {
    "name": "ipython",
    "version": 3
   },
   "file_extension": ".py",
   "mimetype": "text/x-python",
   "name": "python",
   "nbconvert_exporter": "python",
   "pygments_lexer": "ipython3",
   "version": "3.8.8"
  }
 },
 "nbformat": 4,
 "nbformat_minor": 5
}
